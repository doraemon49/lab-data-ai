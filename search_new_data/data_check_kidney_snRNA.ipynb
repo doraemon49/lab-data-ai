{
 "cells": [
  {
   "cell_type": "code",
   "execution_count": 1,
   "id": "afb33a37",
   "metadata": {},
   "outputs": [],
   "source": [
    "# Download\n",
    "# https://cellxgene.cziscience.com/collections/0f528c8a-a25c-4840-8fa3-d156fa11086f\n",
    "\n",
    "# 확인\n",
    "import scanpy as sc\n",
    "import numpy as np\n",
    "import pandas as pd\n",
    "adata = sc.read_h5ad('/data/project/kim89/search_new_data/kidney.h5ad')"
   ]
  },
  {
   "cell_type": "code",
   "execution_count": 2,
   "id": "20813c6e",
   "metadata": {},
   "outputs": [
    {
     "name": "stdout",
     "output_type": "stream",
     "text": [
      "✅ obs columns:\n",
      "['library_id', 'nCount_RNA', 'nFeature_RNA', 'percent.er', 'percent.mt', 'subclass.l2', 'subclass.l1', 'class', 'experiment_id', 'suspension_type', 'assay_ontology_term_id', 'donor_id', 'specimen', 'disease_category', 'disease_ontology_term_id', 'eGFR', 'diabetes_history', 'hypertension', 'sex_ontology_term_id', 'development_stage_ontology_term_id', 'self_reported_ethnicity_ontology_term_id', 'is_primary_data', 'region', 'percent.cortex', 'percent.medulla', 'tissue_type', 'tissue_ontology_term_id', 'cell_type_ontology_term_id', 'Age_binned', 'cell_type', 'assay', 'disease', 'sex', 'tissue', 'self_reported_ethnicity', 'development_stage', 'observation_joinid']\n",
      "\n",
      "✅ var columns:\n",
      "['feature_is_filtered', 'feature_name', 'feature_reference', 'feature_biotype', 'feature_length', 'feature_type']\n",
      "\n",
      "✅ obsm keys:\n",
      "['X_umap']\n",
      "\n",
      "✅ layers keys:\n",
      "[]\n",
      "\n",
      "✅ raw exists:\n",
      "True\n",
      "raw shape: (304989, 36368)\n",
      "\n",
      "✅ X matrix type: <class 'scipy.sparse._csr.csr_matrix'>\n",
      "✅ X shape: (304989, 36368)\n"
     ]
    }
   ],
   "source": [
    "# obs: 셀 메타데이터\n",
    "print(\"✅ obs columns:\")\n",
    "print(adata.obs.columns.tolist())\n",
    "print()\n",
    "\n",
    "# var: 유전자 메타데이터\n",
    "print(\"✅ var columns:\")\n",
    "print(adata.var.columns.tolist())\n",
    "print()\n",
    "\n",
    "# obsm: 저차원 임베딩 (PCA, UMAP 등)\n",
    "print(\"✅ obsm keys:\")\n",
    "print(list(adata.obsm.keys()))\n",
    "print()\n",
    "\n",
    "# layers: 추가 데이터 레이어\n",
    "print(\"✅ layers keys:\")\n",
    "print(list(adata.layers.keys()))\n",
    "print()\n",
    "\n",
    "# raw: raw 데이터 여부\n",
    "print(\"✅ raw exists:\")\n",
    "print(adata.raw is not None)\n",
    "if adata.raw is not None:\n",
    "    print(\"raw shape:\", adata.raw.shape)\n",
    "print()\n",
    "\n",
    "# X matrix info\n",
    "print(\"✅ X matrix type:\", type(adata.X))\n",
    "print(\"✅ X shape:\", adata.X.shape)"
   ]
  },
  {
   "cell_type": "code",
   "execution_count": 19,
   "id": "d9a38a7b",
   "metadata": {},
   "outputs": [
    {
     "name": "stdout",
     "output_type": "stream",
     "text": [
      "Total cell counts : 304,989\n",
      "\n",
      "Samples :\n",
      "donor_id\n",
      "3535        19257\n",
      "3593        10434\n",
      "KRP460       9119\n",
      "18-312       7757\n",
      "28-10109     7682\n",
      "            ...  \n",
      "29-10006      297\n",
      "163-6         231\n",
      "29-10401      198\n",
      "163-5         118\n",
      "28-12510      114\n",
      "Name: count, Length: 80, dtype: int64\n",
      "\n",
      "Avg. cells per sample : 3812.36\n",
      "\n",
      "Cell types :\n",
      "['kidney interstitial alternatively activated macrophage', 'kidney distal convoluted tubule epithelial cell', 'epithelial cell of proximal tubule', 'T cell', 'kidney loop of Henle thick ascending limb epithelial cell', 'kidney collecting duct intercalated cell', 'kidney interstitial fibroblast', 'kidney connecting tubule epithelial cell', 'kidney collecting duct principal cell', 'endothelial cell', 'B cell', 'mature NK T cell', 'mononuclear phagocyte', 'podocyte', 'parietal epithelial cell', 'mast cell', 'plasmacytoid dendritic cell, human', 'plasma cell', 'non-classical monocyte', 'conventional dendritic cell', 'kidney loop of Henle thin descending limb epithelial cell', 'renal interstitial pericyte', 'kidney loop of Henle thin ascending limb epithelial cell', 'neutrophil', 'papillary tips cell', 'neural cell']\n",
      "\n",
      "Number of unique cell types : 26\n"
     ]
    }
   ],
   "source": [
    "# 📌 총 세포 수\n",
    "total_cells = adata.shape[0]\n",
    "print(f\"Total cell counts : {total_cells:,}\")\n",
    "\n",
    "# 📌 샘플 수 및 각 샘플 당 세포 수 (donor_id  기준)\n",
    "sample_counts = adata.obs['donor_id'].value_counts()\n",
    "print(\"\\nSamples :\")\n",
    "print(sample_counts)\n",
    "\n",
    "# 📌 평균 샘플 당 세포 수\n",
    "avg_cells_per_sample = sample_counts.mean()\n",
    "print(f\"\\nAvg. cells per sample : {avg_cells_per_sample:.2f}\")\n",
    "\n",
    "# 📌 Cell types (고유값 목록)\n",
    "cell_types = adata.obs['cell_type'].unique().tolist()\n",
    "print(\"\\nCell types :\")\n",
    "print(cell_types)\n",
    "print(f\"\\nNumber of unique cell types : {len(cell_types)}\")\n"
   ]
  },
  {
   "cell_type": "code",
   "execution_count": 20,
   "id": "fb8c170f",
   "metadata": {},
   "outputs": [
    {
     "name": "stdout",
     "output_type": "stream",
     "text": [
      "\n",
      "Classes :\n",
      "['normal', 'chronic kidney disease', 'acute kidney failure']\n",
      "\n",
      "📊 Disease-wise Sample Counts (donor_id):\n",
      "disease\n",
      "acute kidney failure      16\n",
      "chronic kidney disease    39\n",
      "normal                    25\n",
      "Name: donor_id, dtype: int64\n"
     ]
    }
   ],
   "source": [
    "# 📌 Classes (질병 상태 등 label로 쓸 수 있는 값, 여기선 'disease' 기준)\n",
    "classes = adata.obs['disease'].unique().tolist()\n",
    "print(\"\\nClasses :\")\n",
    "print(classes)\n",
    "\n",
    "# # 📌 질병 별 샘플 수 (고유 donor_id 수 세기)\n",
    "disease_sample_counts = adata.obs.groupby('disease', observed=True)['donor_id'].nunique()\n",
    "print(\"\\n📊 Disease-wise Sample Counts (donor_id):\")\n",
    "print(disease_sample_counts)\n"
   ]
  },
  {
   "cell_type": "code",
   "execution_count": null,
   "id": "8366c3ad",
   "metadata": {},
   "outputs": [],
   "source": [
    "# print(adata.obs.columns)\n",
    "\n",
    "\n",
    "# # 각 컬럼 값 확인\n",
    "# print(\"\\n🔹 disease unique values:\")\n",
    "# print(adata.obs['disease'].unique())\n",
    "\n",
    "\n",
    "# print(\"🔹 donor_id unique values:\")\n",
    "# print(adata.obs['donor_id'].unique())\n",
    "\n",
    "\n",
    "# print(\"\\n🔹 AuthorCellType unique values:\")\n",
    "# print(adata.obs['AuthorCellType'].unique())\n",
    "\n",
    "\n",
    "# print(\"\\n🔹 cell_type_ontology_term_id unique values:\")\n",
    "# print(adata.obs['cell_type_ontology_term_id'].unique())\n",
    "\n",
    "\n",
    "# print(\"\\n🔹 cell_type unique values:\")\n",
    "# print(adata.obs['cell_type'].unique())"
   ]
  },
  {
   "cell_type": "code",
   "execution_count": null,
   "id": "2472df7c",
   "metadata": {},
   "outputs": [],
   "source": [
    "\n",
    "# print(adata.obs['disease__ontology_label'].value_counts())\n",
    "# # 환자 ID, 레이블 정보 추출\n",
    "# patient_ids = adata.obs['patient']\n",
    "# labels = adata.obs['disease__ontology_label']\n",
    "\n",
    "# # 셀 수 카운트\n",
    "# patient_counts = patient_ids.value_counts()\n",
    "\n",
    "# # 500개 미만 환자 필터링\n",
    "# under_500 = patient_counts[patient_counts < 500]\n",
    "\n",
    "# print(\"500개 미만 셀을 가진 환자 수:\", len(under_500))\n",
    "# print(under_500)\n",
    "\n",
    "# # 라벨 별 분포 확인\n",
    "# adata.obs['label_mapped'] = labels.map({\n",
    "#     'normal': 0,\n",
    "#     'hypertrophic cardiomyopathy': 1,\n",
    "#     'dilated cardiomyopathy': 2\n",
    "# })\n",
    "# df = pd.DataFrame({'patient': patient_ids, 'label': adata.obs['label_mapped']})\n",
    "# patient_label = df.groupby('patient')['label'].first()\n",
    "\n",
    "# print(\"label 분포 (500개 이상 셀 보유한 환자 기준):\")\n",
    "# print(patient_label[~patient_label.index.isin(under_500.index)].value_counts())"
   ]
  }
 ],
 "metadata": {
  "kernelspec": {
   "display_name": "ScRATenv",
   "language": "python",
   "name": "scratenv"
  },
  "language_info": {
   "codemirror_mode": {
    "name": "ipython",
    "version": 3
   },
   "file_extension": ".py",
   "mimetype": "text/x-python",
   "name": "python",
   "nbconvert_exporter": "python",
   "pygments_lexer": "ipython3",
   "version": "3.9.13 (main, Aug 25 2022, 23:26:10) \n[GCC 11.2.0]"
  }
 },
 "nbformat": 4,
 "nbformat_minor": 5
}
