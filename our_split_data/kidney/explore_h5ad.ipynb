{
 "cells": [
  {
   "cell_type": "code",
   "execution_count": 16,
   "id": "5d6a1fdd",
   "metadata": {},
   "outputs": [],
   "source": [
    "import scanpy as sc\n",
    "import numpy as np\n",
    "import pandas as pd\n",
    "adata = sc.read_h5ad('/data/project/kim89/0818_kidney/repeat_0/fold_0_train.h5ad')"
   ]
  },
  {
   "cell_type": "code",
   "execution_count": 3,
   "id": "8edb5570",
   "metadata": {},
   "outputs": [
    {
     "name": "stdout",
     "output_type": "stream",
     "text": [
      "✅ obs columns:\n",
      "['orig.ident', 'nCount_RNA', 'SpecimenID', 'LibraryID', 'SampleID', 'Run', 'clusterNumber', 'subclass.l1', 'dataSource', 'diseasetype', 'Race', 'clusterClass', 'assay_ontology_term_id', 'sampletype', 'disease_ontology_term_id', 'sex_ontology_term_id', 'patient', 'suspension_type', 'tissue_ontology_term_id', 'tissue_type', 'self_reported_ethnicity_ontology_term_id', 'development_stage_ontology_term_id', 'Age_binned', 'cell_type_ontology_term_id', 'author_cell_type', 'diabetes_history', 'hypertension', 'eGFR', 'is_primary_data', 'disease_category', 'nFeature_RNA', 'percent.mt', 'assay', 'label', 'sex', 'tissue', 'self_reported_ethnicity', 'development_stage', 'observation_joinid', 'manual_annotation', 'scgpt_cluster_2.0', 'scgpt_cluster_1.0', 'scace_cluster_1.0', 'cluster', 'llm_cluster_1.0', 'split_cluster_1.0', 'merged_cluster_1.0', 'llm_merged_cluster_1.0', 'llm_scace_cluster_1.0', 'raw_cluster_1.0', 'raw_split_cluster_1.0', 'raw_merged_cluster_1.0', 'singler_annotation']\n",
      "\n"
     ]
    }
   ],
   "source": [
    "# obs: 셀 메타데이터\n",
    "print(\"✅ obs columns:\")\n",
    "print(adata.obs.columns.tolist())\n",
    "print()\n",
    "\n",
    "# cell type annotation 2가지\n",
    "# 'manual_annotation', 'singler_annotation'"
   ]
  },
  {
   "cell_type": "code",
   "execution_count": 4,
   "id": "0656df52",
   "metadata": {},
   "outputs": [
    {
     "name": "stdout",
     "output_type": "stream",
     "text": [
      "['conventional dendritic cell', 'T cell', 'plasma cell', 'kidney interstitial cell', 'mononuclear phagocyte', ..., 'kidney collecting duct intercalated cell', 'podocyte', 'parietal epithelial cell', 'kidney connecting tubule epithelial cell', 'kidney loop of Henle thin descending limb epi...]\n",
      "Length: 25\n",
      "Categories (25, object): ['T cell', 'mononuclear phagocyte', 'endothelial cell', 'B cell', ..., 'kidney loop of Henle thin descending limb epi..., 'kidney collecting duct principal cell', 'kidney collecting duct intercalated cell', 'mast cell']\n",
      "manual_annotation\n",
      "epithelial cell of proximal tubule                           45779\n",
      "kidney loop of Henle thick ascending limb epithelial cell    33845\n",
      "kidney collecting duct principal cell                        25539\n",
      "endothelial cell                                             13920\n",
      "kidney collecting duct intercalated cell                     12550\n",
      "T cell                                                       10238\n",
      "kidney distal convoluted tubule epithelial cell               7874\n",
      "kidney interstitial cell                                      5082\n",
      "kidney connecting tubule epithelial cell                      4449\n",
      "kidney loop of Henle thin ascending limb epithelial cell      3965\n",
      "kidney loop of Henle thin descending limb epithelial cell     3840\n",
      "conventional dendritic cell                                   2990\n",
      "monocyte                                                      2796\n",
      "B cell                                                        2606\n",
      "mononuclear phagocyte                                         2029\n",
      "cytotoxic T cell                                              1721\n",
      "kidney interstitial alternatively activated macrophage        1703\n",
      "mature NK T cell                                              1670\n",
      "natural killer cell                                           1201\n",
      "plasma cell                                                    867\n",
      "parietal epithelial cell                                       733\n",
      "non-classical monocyte                                         420\n",
      "podocyte                                                       413\n",
      "plasmacytoid dendritic cell, human                             292\n",
      "mast cell                                                      114\n",
      "Name: count, dtype: int64\n"
     ]
    }
   ],
   "source": [
    "# manual_annotation 컬럼의 고유값 확인\n",
    "print(adata.obs['manual_annotation'].unique())\n",
    "\n",
    "# manual_annotation 컬럼의 고유값과 빈도수\n",
    "print(adata.obs['manual_annotation'].value_counts())\n"
   ]
  },
  {
   "cell_type": "code",
   "execution_count": 5,
   "id": "e422c9ee",
   "metadata": {},
   "outputs": [
    {
     "name": "stdout",
     "output_type": "stream",
     "text": [
      "['DC', 'T_cells', 'B_cell', 'Fibroblasts', 'Macrophage', ..., 'MEP', 'BM & Prog.', 'Erythroblast', NaN, 'Gametocytes']\n",
      "Length: 37\n",
      "Categories (36, object): ['Astrocyte', 'BM', 'BM & Prog.', 'B_cell', ..., 'Smooth_muscle_cells', 'T_cells', 'Tissue_stem_cells', 'iPS_cells']\n",
      "singler_annotation\n",
      "Epithelial_cells        54477\n",
      "Hepatocytes             25373\n",
      "Endothelial_cells       16685\n",
      "Smooth_muscle_cells     14104\n",
      "Astrocyte               10427\n",
      "T_cells                  9548\n",
      "Neurons                  7905\n",
      "Neuroepithelial_cell     7714\n",
      "Fibroblasts              6975\n",
      "Macrophage               3724\n",
      "Monocyte                 3055\n",
      "Embryonic_stem_cells     2903\n",
      "B_cell                   2682\n",
      "HSC_-G-CSF               2305\n",
      "NK_cell                  2284\n",
      "CMP                      1692\n",
      "Chondrocytes             1577\n",
      "iPS_cells                1570\n",
      "Pre-B_cell_CD34-         1564\n",
      "Keratinocytes            1348\n",
      "DC                       1199\n",
      "GMP                      1181\n",
      "Tissue_stem_cells         849\n",
      "Osteoblasts               842\n",
      "BM                        774\n",
      "MSC                       733\n",
      "MEP                       573\n",
      "BM & Prog.                479\n",
      "Platelets                 385\n",
      "Pro-Myelocyte             382\n",
      "Neutrophils               333\n",
      "Pro-B_cell_CD34+          289\n",
      "HSC_CD34+                 261\n",
      "Erythroblast              188\n",
      "Myelocyte                  81\n",
      "Gametocytes                48\n",
      "Name: count, dtype: int64\n"
     ]
    }
   ],
   "source": [
    "# singler_annotation 컬럼의 고유값 확인\n",
    "print(adata.obs['singler_annotation'].unique())\n",
    "\n",
    "# singler_annotation 컬럼의 고유값과 빈도수\n",
    "print(adata.obs['singler_annotation'].value_counts())\n"
   ]
  },
  {
   "cell_type": "code",
   "execution_count": null,
   "id": "87c935d4",
   "metadata": {},
   "outputs": [
    {
     "name": "stdout",
     "output_type": "stream",
     "text": [
      "Unique cell types: {nan, 'Neurons', 'T_cells', 'iPS_cells', 'Embryonic_stem_cells', 'Endothelial_cells', 'NK_cell', 'Astrocyte', 'MSC', 'HSC_CD34+', 'Neutrophils', 'DC', 'Osteoblasts', 'HSC_-G-CSF', 'B_cell', 'Neuroepithelial_cell', 'Chondrocytes', 'Monocyte', 'MEP', 'Tissue_stem_cells', 'Hepatocytes', 'Epithelial_cells', 'BM', 'CMP', 'Keratinocytes', 'Platelets', 'Pre-B_cell_CD34-', 'Macrophage', 'Smooth_muscle_cells', 'GMP', 'Myelocyte', 'Gametocytes', 'BM & Prog.', 'Pro-B_cell_CD34+', 'Erythroblast', 'Pro-Myelocyte', 'Fibroblasts'}\n",
      "Cell type types: {<class 'float'>, <class 'str'>}\n"
     ]
    }
   ],
   "source": [
    "print(\"Unique cell types:\", set(adata.obs['singler_annotation']))\n",
    "print(\"Cell type types:\", set([type(c) for c in adata.obs['singler_annotation']]))\n"
   ]
  },
  {
   "cell_type": "code",
   "execution_count": 7,
   "id": "2f31756f",
   "metadata": {},
   "outputs": [
    {
     "name": "stdout",
     "output_type": "stream",
     "text": [
      "AnnData object with n_obs × n_vars = 186636 × 3000\n",
      "    obs: 'orig.ident', 'nCount_RNA', 'SpecimenID', 'LibraryID', 'SampleID', 'Run', 'clusterNumber', 'subclass.l1', 'dataSource', 'diseasetype', 'Race', 'clusterClass', 'assay_ontology_term_id', 'sampletype', 'disease_ontology_term_id', 'sex_ontology_term_id', 'patient', 'suspension_type', 'tissue_ontology_term_id', 'tissue_type', 'self_reported_ethnicity_ontology_term_id', 'development_stage_ontology_term_id', 'Age_binned', 'cell_type_ontology_term_id', 'author_cell_type', 'diabetes_history', 'hypertension', 'eGFR', 'is_primary_data', 'disease_category', 'nFeature_RNA', 'percent.mt', 'assay', 'label', 'sex', 'tissue', 'self_reported_ethnicity', 'development_stage', 'observation_joinid', 'manual_annotation', 'scgpt_cluster_2.0', 'scgpt_cluster_1.0', 'scace_cluster_1.0', 'cluster', 'llm_cluster_1.0', 'split_cluster_1.0', 'merged_cluster_1.0', 'llm_merged_cluster_1.0', 'llm_scace_cluster_1.0', 'raw_cluster_1.0', 'raw_split_cluster_1.0', 'raw_merged_cluster_1.0', 'singler_annotation'\n",
      "    var: 'index', 'feature_is_filtered', 'feature_name', 'feature_reference', 'feature_biotype', 'feature_length', 'feature_type', 'n_cells', 'Gene', 'id_in_vocab', 'highly_variable', 'means', 'dispersions', 'dispersions_norm'\n",
      "    uns: 'GPT_annotation', 'LLM_annotation', 'batch_condition', 'citation', 'default_embedding', 'find_markers', 'hvg', 'log1p', 'marker_list', 'neighbors', 'organism', 'organism_ontology_term_id', 'rank_genes_groups', 'scgpt_cluster_1.0', 'scgpt_cluster_2.0', 'schema_reference', 'schema_version', 'title'\n",
      "    obsm: 'X_pca', 'X_scGPT', 'X_umap', 'scace_emb_1.0'\n",
      "    obsp: 'connectivities', 'distances'\n"
     ]
    }
   ],
   "source": [
    "print(adata)"
   ]
  },
  {
   "cell_type": "code",
   "execution_count": 17,
   "id": "20488313",
   "metadata": {},
   "outputs": [
    {
     "name": "stdout",
     "output_type": "stream",
     "text": [
      "patient unique count: 61\n",
      "\n",
      "==================================================\n",
      "\n",
      "patient\n",
      "27-10039          [1]\n",
      "Categories (3, int64): [0, 1, 2]\n",
      "27-10053          [1]\n",
      "Categories (3, int64): [0, 1, 2]\n",
      "27-10071          [1]\n",
      "Categories (3, int64): [0, 1, 2]\n",
      "27-10119          [1]\n",
      "Categories (3, int64): [0, 1, 2]\n",
      "28-10051          [1]\n",
      "Categories (3, int64): [0, 1, 2]\n",
      "                                  ...                 \n",
      "Sample1157-EO2    [2]\n",
      "Categories (3, int64): [0, 1, 2]\n",
      "Sample1157-EO3    [2]\n",
      "Categories (3, int64): [0, 1, 2]\n",
      "Sample1158-EO3    [2]\n",
      "Categories (3, int64): [0, 1, 2]\n",
      "Sample1162-EO1    [2]\n",
      "Categories (3, int64): [0, 1, 2]\n",
      "Sample1162-EO2    [2]\n",
      "Categories (3, int64): [0, 1, 2]\n",
      "Name: label, Length: 61, dtype: object\n"
     ]
    },
    {
     "name": "stderr",
     "output_type": "stream",
     "text": [
      "/tmp/ipykernel_111937/2737194389.py:9: FutureWarning: The default of observed=False is deprecated and will be changed to True in a future version of pandas. Pass observed=False to retain current behavior or observed=True to adopt the future default and silence this warning.\n",
      "  donor_disease_map = adata.obs.groupby('patient')['label'].unique()\n"
     ]
    }
   ],
   "source": [
    "# patient 고유값 개수와 분포\n",
    "print(\"patient unique count:\", adata.obs['patient'].nunique())\n",
    "# print(\"patient distribution:\")\n",
    "# print(adata.obs['patient'].value_counts())\n",
    "\n",
    "print(\"\\n\" + \"=\"*50 + \"\\n\")\n",
    "\n",
    "# 환자별로 질병 정보 확인\n",
    "donor_disease_map = adata.obs.groupby('patient')['label'].unique()\n",
    "\n",
    "# 결과 출력\n",
    "print(donor_disease_map)\n",
    "\n"
   ]
  },
  {
   "cell_type": "code",
   "execution_count": 18,
   "id": "4f71f923",
   "metadata": {},
   "outputs": [
    {
     "name": "stdout",
     "output_type": "stream",
     "text": [
      "           patient                                 label\n",
      "0         27-10039  [1]\n",
      "Categories (3, int64): [0, 1, 2]\n",
      "1         27-10053  [1]\n",
      "Categories (3, int64): [0, 1, 2]\n",
      "2         27-10071  [1]\n",
      "Categories (3, int64): [0, 1, 2]\n",
      "3         27-10119  [1]\n",
      "Categories (3, int64): [0, 1, 2]\n",
      "4         28-10051  [1]\n",
      "Categories (3, int64): [0, 1, 2]\n",
      "..             ...                                   ...\n",
      "56  Sample1157-EO2  [2]\n",
      "Categories (3, int64): [0, 1, 2]\n",
      "57  Sample1157-EO3  [2]\n",
      "Categories (3, int64): [0, 1, 2]\n",
      "58  Sample1158-EO3  [2]\n",
      "Categories (3, int64): [0, 1, 2]\n",
      "59  Sample1162-EO1  [2]\n",
      "Categories (3, int64): [0, 1, 2]\n",
      "60  Sample1162-EO2  [2]\n",
      "Categories (3, int64): [0, 1, 2]\n",
      "\n",
      "[61 rows x 2 columns]\n"
     ]
    }
   ],
   "source": [
    "# DataFrame 형태로 정리\n",
    "donor_disease_df = donor_disease_map.reset_index()\n",
    "donor_disease_df.columns = ['patient', 'label']\n",
    "print(donor_disease_df)\n"
   ]
  },
  {
   "cell_type": "code",
   "execution_count": 19,
   "id": "6c5c4d30",
   "metadata": {},
   "outputs": [
    {
     "name": "stdout",
     "output_type": "stream",
     "text": [
      "Unique disease_category: {'Healthy_stone_donor', 'CKD', 'Healthy_living_donor', 'AKI'}\n",
      "Unique label: {0, 1, 2}\n"
     ]
    }
   ],
   "source": [
    "print(\"Unique disease_category:\", set(adata.obs['disease_category']))\n",
    "print(\"Unique label:\", set(adata.obs['label']))"
   ]
  },
  {
   "cell_type": "code",
   "execution_count": 20,
   "id": "0e9ae372",
   "metadata": {},
   "outputs": [
    {
     "name": "stdout",
     "output_type": "stream",
     "text": [
      "patient unique count: 16\n"
     ]
    }
   ],
   "source": [
    "adata = sc.read_h5ad('/data/project/kim89/0818_kidney/repeat_0/fold_0_test.h5ad')\n",
    "print(\"patient unique count:\", adata.obs['patient'].nunique())"
   ]
  },
  {
   "cell_type": "code",
   "execution_count": null,
   "id": "5767de6e",
   "metadata": {},
   "outputs": [
    {
     "name": "stdout",
     "output_type": "stream",
     "text": [
      "Unique cell types: {0, 1, 2}\n"
     ]
    }
   ],
   "source": [
    "print(\"Unique cell types:\", set(adata.obs['label']))\n"
   ]
  }
 ],
 "metadata": {
  "kernelspec": {
   "display_name": "scrat",
   "language": "python",
   "name": "python3"
  },
  "language_info": {
   "codemirror_mode": {
    "name": "ipython",
    "version": 3
   },
   "file_extension": ".py",
   "mimetype": "text/x-python",
   "name": "python",
   "nbconvert_exporter": "python",
   "pygments_lexer": "ipython3",
   "version": "3.9.13"
  }
 },
 "nbformat": 4,
 "nbformat_minor": 5
}
