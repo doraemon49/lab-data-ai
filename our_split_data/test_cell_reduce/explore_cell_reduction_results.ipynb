{
 "cells": [
  {
   "cell_type": "code",
   "execution_count": 2,
   "id": "5d6a1fdd",
   "metadata": {},
   "outputs": [],
   "source": [
    "import scanpy as sc\n",
    "import numpy as np\n",
    "import pandas as pd\n",
    "adata = sc.read_h5ad('/data/project/kim89/0804_data_cell_reduce/repeat_0/fold_0_train_corr_sparse_pseudocells.h5ad')"
   ]
  },
  {
   "cell_type": "code",
   "execution_count": 7,
   "id": "8edb5570",
   "metadata": {},
   "outputs": [
    {
     "name": "stdout",
     "output_type": "stream",
     "text": [
      "✅ obs columns:\n",
      "[]\n"
     ]
    }
   ],
   "source": [
    "# obs: 셀 메타데이터\n",
    "print(\"✅ obs columns:\")\n",
    "print(adata.obs.columns.tolist())\n",
    "\n",
    "# cell type annotation 2가지\n",
    "# 'manual_annotation', 'singler_annotation'"
   ]
  },
  {
   "cell_type": "code",
   "execution_count": null,
   "id": "f5196f18",
   "metadata": {},
   "outputs": [
    {
     "name": "stdout",
     "output_type": "stream",
     "text": [
      "AnnData object with n_obs × n_vars = 12 × 1500\n"
     ]
    },
    {
     "data": {
      "text/plain": [
       "\"\\n원본 데이터\\nAnnData object with n_obs × n_vars = 22137 × 3000\\n    obs: 'donor_id', 'Peak_Respiratory_Support_WHO_Score', 'Bloody_Swab', 'Percent_Mitochondrial', 'SARSCoV2_PCR_Status', 'SARSCoV2_PCR_Status_and_WHO_Score', 'Cohort_Disease_WHO_Score', 'biosample_id', 'SingleCell_SARSCoV2_RNA_Status', 'SARSCoV2_Unspliced_TRS_Total_Corrected', 'SARSCoV2_Spliced_TRS_Total_Corrected', 'SARSCoV2_NegativeStrand_Total_Corrected', 'SARSCoV2_PositiveStrand_Total_Corrected', 'SARSCoV2_Total_Corrected', 'species', 'species__ontology_label', 'sex', 'disease', 'disease__ontology_label', 'organ', 'organ__ontology_label', 'library_preparation_protocol', 'library_preparation_protocol__ontology_label', 'age', 'Coarse_Cell_Annotations', 'Detailed_Cell_Annotations', 'label', 'patient', 'manual_annotation', 'singler_annotation', 'scgpt_cluster_2.0', 'scgpt_cluster_1.0', 'scace_cluster_1.0', 'cluster', 'llm_cluster_1.0', 'split_cluster_1.0', 'merged_cluster_1.0', 'llm_merged_cluster_1.0', 'llm_scace_cluster_1.0'\\n    var: 'n_cells', 'Gene', 'id_in_vocab', 'highly_variable', 'means', 'dispersions', 'dispersions_norm'\\n    uns: 'GPT_annotation', 'LLM_annotation', 'find_markers', 'hvg', 'log1p', 'marker_list', 'neighbors', 'rank_genes_groups', 'scgpt_cluster_1.0', 'scgpt_cluster_2.0'\\n    obsm: 'X_scGPT', 'scace_emb_1.0'\\n    obsp: 'connectivities', 'distances'\\n\""
      ]
     },
     "metadata": {},
     "output_type": "display_data"
    }
   ],
   "source": [
    "print(adata)\n",
    "\"\"\"\n",
    "원본 데이터\n",
    "AnnData object with n_obs × n_vars = 22137 × 3000\n",
    "    obs: 'donor_id', 'Peak_Respiratory_Support_WHO_Score', 'Bloody_Swab', 'Percent_Mitochondrial', 'SARSCoV2_PCR_Status', 'SARSCoV2_PCR_Status_and_WHO_Score', 'Cohort_Disease_WHO_Score', 'biosample_id', 'SingleCell_SARSCoV2_RNA_Status', 'SARSCoV2_Unspliced_TRS_Total_Corrected', 'SARSCoV2_Spliced_TRS_Total_Corrected', 'SARSCoV2_NegativeStrand_Total_Corrected', 'SARSCoV2_PositiveStrand_Total_Corrected', 'SARSCoV2_Total_Corrected', 'species', 'species__ontology_label', 'sex', 'disease', 'disease__ontology_label', 'organ', 'organ__ontology_label', 'library_preparation_protocol', 'library_preparation_protocol__ontology_label', 'age', 'Coarse_Cell_Annotations', 'Detailed_Cell_Annotations', 'label', 'patient', 'manual_annotation', 'singler_annotation', 'scgpt_cluster_2.0', 'scgpt_cluster_1.0', 'scace_cluster_1.0', 'cluster', 'llm_cluster_1.0', 'split_cluster_1.0', 'merged_cluster_1.0', 'llm_merged_cluster_1.0', 'llm_scace_cluster_1.0'\n",
    "    var: 'n_cells', 'Gene', 'id_in_vocab', 'highly_variable', 'means', 'dispersions', 'dispersions_norm'\n",
    "    uns: 'GPT_annotation', 'LLM_annotation', 'find_markers', 'hvg', 'log1p', 'marker_list', 'neighbors', 'rank_genes_groups', 'scgpt_cluster_1.0', 'scgpt_cluster_2.0'\n",
    "    obsm: 'X_scGPT', 'scace_emb_1.0'\n",
    "    obsp: 'connectivities', 'distances'\n",
    "\"\"\""
   ]
  },
  {
   "cell_type": "code",
   "execution_count": 5,
   "id": "0656df52",
   "metadata": {},
   "outputs": [
    {
     "ename": "KeyError",
     "evalue": "'manual_annotation'",
     "output_type": "error",
     "traceback": [
      "\u001b[0;31m---------------------------------------------------------------------------\u001b[0m",
      "\u001b[0;31mKeyError\u001b[0m                                  Traceback (most recent call last)",
      "File \u001b[0;32m/data/project/kim89/ScRAT/scrat/lib/python3.9/site-packages/pandas/core/indexes/base.py:3812\u001b[0m, in \u001b[0;36mIndex.get_loc\u001b[0;34m(self, key)\u001b[0m\n\u001b[1;32m   3811\u001b[0m \u001b[38;5;28;01mtry\u001b[39;00m:\n\u001b[0;32m-> 3812\u001b[0m     \u001b[38;5;28;01mreturn\u001b[39;00m \u001b[38;5;28;43mself\u001b[39;49m\u001b[38;5;241;43m.\u001b[39;49m\u001b[43m_engine\u001b[49m\u001b[38;5;241;43m.\u001b[39;49m\u001b[43mget_loc\u001b[49m\u001b[43m(\u001b[49m\u001b[43mcasted_key\u001b[49m\u001b[43m)\u001b[49m\n\u001b[1;32m   3813\u001b[0m \u001b[38;5;28;01mexcept\u001b[39;00m \u001b[38;5;167;01mKeyError\u001b[39;00m \u001b[38;5;28;01mas\u001b[39;00m err:\n",
      "File \u001b[0;32mpandas/_libs/index.pyx:167\u001b[0m, in \u001b[0;36mpandas._libs.index.IndexEngine.get_loc\u001b[0;34m()\u001b[0m\n",
      "File \u001b[0;32mpandas/_libs/index.pyx:196\u001b[0m, in \u001b[0;36mpandas._libs.index.IndexEngine.get_loc\u001b[0;34m()\u001b[0m\n",
      "File \u001b[0;32mpandas/_libs/hashtable_class_helper.pxi:7088\u001b[0m, in \u001b[0;36mpandas._libs.hashtable.PyObjectHashTable.get_item\u001b[0;34m()\u001b[0m\n",
      "File \u001b[0;32mpandas/_libs/hashtable_class_helper.pxi:7096\u001b[0m, in \u001b[0;36mpandas._libs.hashtable.PyObjectHashTable.get_item\u001b[0;34m()\u001b[0m\n",
      "\u001b[0;31mKeyError\u001b[0m: 'manual_annotation'",
      "\nThe above exception was the direct cause of the following exception:\n",
      "\u001b[0;31mKeyError\u001b[0m                                  Traceback (most recent call last)",
      "Cell \u001b[0;32mIn[5], line 2\u001b[0m\n\u001b[1;32m      1\u001b[0m \u001b[38;5;66;03m# manual_annotation 컬럼의 고유값 확인\u001b[39;00m\n\u001b[0;32m----> 2\u001b[0m \u001b[38;5;28mprint\u001b[39m(\u001b[43madata\u001b[49m\u001b[38;5;241;43m.\u001b[39;49m\u001b[43mobs\u001b[49m\u001b[43m[\u001b[49m\u001b[38;5;124;43m'\u001b[39;49m\u001b[38;5;124;43mmanual_annotation\u001b[39;49m\u001b[38;5;124;43m'\u001b[39;49m\u001b[43m]\u001b[49m\u001b[38;5;241m.\u001b[39munique())\n\u001b[1;32m      4\u001b[0m \u001b[38;5;66;03m# manual_annotation 컬럼의 고유값과 빈도수\u001b[39;00m\n\u001b[1;32m      5\u001b[0m \u001b[38;5;28mprint\u001b[39m(adata\u001b[38;5;241m.\u001b[39mobs[\u001b[38;5;124m'\u001b[39m\u001b[38;5;124mmanual_annotation\u001b[39m\u001b[38;5;124m'\u001b[39m]\u001b[38;5;241m.\u001b[39mvalue_counts())\n",
      "File \u001b[0;32m/data/project/kim89/ScRAT/scrat/lib/python3.9/site-packages/pandas/core/frame.py:4107\u001b[0m, in \u001b[0;36mDataFrame.__getitem__\u001b[0;34m(self, key)\u001b[0m\n\u001b[1;32m   4105\u001b[0m \u001b[38;5;28;01mif\u001b[39;00m \u001b[38;5;28mself\u001b[39m\u001b[38;5;241m.\u001b[39mcolumns\u001b[38;5;241m.\u001b[39mnlevels \u001b[38;5;241m>\u001b[39m \u001b[38;5;241m1\u001b[39m:\n\u001b[1;32m   4106\u001b[0m     \u001b[38;5;28;01mreturn\u001b[39;00m \u001b[38;5;28mself\u001b[39m\u001b[38;5;241m.\u001b[39m_getitem_multilevel(key)\n\u001b[0;32m-> 4107\u001b[0m indexer \u001b[38;5;241m=\u001b[39m \u001b[38;5;28;43mself\u001b[39;49m\u001b[38;5;241;43m.\u001b[39;49m\u001b[43mcolumns\u001b[49m\u001b[38;5;241;43m.\u001b[39;49m\u001b[43mget_loc\u001b[49m\u001b[43m(\u001b[49m\u001b[43mkey\u001b[49m\u001b[43m)\u001b[49m\n\u001b[1;32m   4108\u001b[0m \u001b[38;5;28;01mif\u001b[39;00m is_integer(indexer):\n\u001b[1;32m   4109\u001b[0m     indexer \u001b[38;5;241m=\u001b[39m [indexer]\n",
      "File \u001b[0;32m/data/project/kim89/ScRAT/scrat/lib/python3.9/site-packages/pandas/core/indexes/base.py:3819\u001b[0m, in \u001b[0;36mIndex.get_loc\u001b[0;34m(self, key)\u001b[0m\n\u001b[1;32m   3814\u001b[0m     \u001b[38;5;28;01mif\u001b[39;00m \u001b[38;5;28misinstance\u001b[39m(casted_key, \u001b[38;5;28mslice\u001b[39m) \u001b[38;5;129;01mor\u001b[39;00m (\n\u001b[1;32m   3815\u001b[0m         \u001b[38;5;28misinstance\u001b[39m(casted_key, abc\u001b[38;5;241m.\u001b[39mIterable)\n\u001b[1;32m   3816\u001b[0m         \u001b[38;5;129;01mand\u001b[39;00m \u001b[38;5;28many\u001b[39m(\u001b[38;5;28misinstance\u001b[39m(x, \u001b[38;5;28mslice\u001b[39m) \u001b[38;5;28;01mfor\u001b[39;00m x \u001b[38;5;129;01min\u001b[39;00m casted_key)\n\u001b[1;32m   3817\u001b[0m     ):\n\u001b[1;32m   3818\u001b[0m         \u001b[38;5;28;01mraise\u001b[39;00m InvalidIndexError(key)\n\u001b[0;32m-> 3819\u001b[0m     \u001b[38;5;28;01mraise\u001b[39;00m \u001b[38;5;167;01mKeyError\u001b[39;00m(key) \u001b[38;5;28;01mfrom\u001b[39;00m\u001b[38;5;250m \u001b[39m\u001b[38;5;21;01merr\u001b[39;00m\n\u001b[1;32m   3820\u001b[0m \u001b[38;5;28;01mexcept\u001b[39;00m \u001b[38;5;167;01mTypeError\u001b[39;00m:\n\u001b[1;32m   3821\u001b[0m     \u001b[38;5;66;03m# If we have a listlike key, _check_indexing_error will raise\u001b[39;00m\n\u001b[1;32m   3822\u001b[0m     \u001b[38;5;66;03m#  InvalidIndexError. Otherwise we fall through and re-raise\u001b[39;00m\n\u001b[1;32m   3823\u001b[0m     \u001b[38;5;66;03m#  the TypeError.\u001b[39;00m\n\u001b[1;32m   3824\u001b[0m     \u001b[38;5;28mself\u001b[39m\u001b[38;5;241m.\u001b[39m_check_indexing_error(key)\n",
      "\u001b[0;31mKeyError\u001b[0m: 'manual_annotation'"
     ]
    }
   ],
   "source": [
    "# manual_annotation 컬럼의 고유값 확인\n",
    "print(adata.obs['manual_annotation'].unique())\n",
    "\n",
    "# manual_annotation 컬럼의 고유값과 빈도수\n",
    "print(adata.obs['manual_annotation'].value_counts())\n"
   ]
  },
  {
   "cell_type": "code",
   "execution_count": 4,
   "id": "e422c9ee",
   "metadata": {},
   "outputs": [
    {
     "name": "stdout",
     "output_type": "stream",
     "text": [
      "['Epithelial_cells', 'Platelets', 'Keratinocytes', 'Macrophage', 'B_cell', ..., 'MEP', 'BM & Prog.', 'Pro-B_cell_CD34+', 'Pro-Myelocyte', NaN]\n",
      "Length: 37\n",
      "Categories (36, object): ['Astrocyte', 'BM', 'BM & Prog.', 'B_cell', ..., 'Smooth_muscle_cells', 'T_cells', 'Tissue_stem_cells', 'iPS_cells']\n",
      "singler_annotation\n",
      "Epithelial_cells        15305\n",
      "Keratinocytes            1437\n",
      "T_cells                   705\n",
      "NK_cell                   545\n",
      "Gametocytes               480\n",
      "Neutrophils               467\n",
      "Neurons                   467\n",
      "Monocyte                  388\n",
      "Macrophage                362\n",
      "Erythroblast              167\n",
      "DC                        163\n",
      "Astrocyte                 151\n",
      "Platelets                 146\n",
      "HSC_-G-CSF                141\n",
      "Smooth_muscle_cells       122\n",
      "HSC_CD34+                 102\n",
      "Embryonic_stem_cells      101\n",
      "Endothelial_cells          98\n",
      "B_cell                     86\n",
      "Myelocyte                  86\n",
      "CMP                        79\n",
      "BM & Prog.                 70\n",
      "Pre-B_cell_CD34-           58\n",
      "BM                         52\n",
      "Hepatocytes                49\n",
      "Osteoblasts                44\n",
      "Pro-Myelocyte              43\n",
      "Neuroepithelial_cell       39\n",
      "MEP                        35\n",
      "Fibroblasts                28\n",
      "Chondrocytes               26\n",
      "Tissue_stem_cells          22\n",
      "GMP                        20\n",
      "Pro-B_cell_CD34+           18\n",
      "MSC                        17\n",
      "iPS_cells                  14\n",
      "Name: count, dtype: int64\n"
     ]
    }
   ],
   "source": [
    "# singler_annotation 컬럼의 고유값 확인\n",
    "print(adata.obs['singler_annotation'].unique())\n",
    "\n",
    "# singler_annotation 컬럼의 고유값과 빈도수\n",
    "print(adata.obs['singler_annotation'].value_counts())\n"
   ]
  },
  {
   "cell_type": "code",
   "execution_count": 5,
   "id": "87c935d4",
   "metadata": {},
   "outputs": [
    {
     "name": "stdout",
     "output_type": "stream",
     "text": [
      "Unique cell types: {nan, 'DC', 'Myelocyte', 'Platelets', 'Fibroblasts', 'Neuroepithelial_cell', 'B_cell', 'Macrophage', 'Pre-B_cell_CD34-', 'Smooth_muscle_cells', 'Hepatocytes', 'Neutrophils', 'Tissue_stem_cells', 'Astrocyte', 'CMP', 'NK_cell', 'Endothelial_cells', 'Pro-Myelocyte', 'HSC_-G-CSF', 'Osteoblasts', 'BM', 'MSC', 'Erythroblast', 'Keratinocytes', 'Monocyte', 'HSC_CD34+', 'Embryonic_stem_cells', 'Chondrocytes', 'MEP', 'iPS_cells', 'Epithelial_cells', 'BM & Prog.', 'Pro-B_cell_CD34+', 'T_cells', 'GMP', 'Neurons', 'Gametocytes'}\n",
      "Cell type types: {<class 'float'>, <class 'str'>}\n"
     ]
    }
   ],
   "source": [
    "print(\"Unique cell types:\", set(adata.obs['singler_annotation']))\n",
    "print(\"Cell type types:\", set([type(c) for c in adata.obs['singler_annotation']]))\n"
   ]
  },
  {
   "cell_type": "code",
   "execution_count": 10,
   "id": "20488313",
   "metadata": {},
   "outputs": [
    {
     "name": "stdout",
     "output_type": "stream",
     "text": [
      "donor_id unique count: 40\n",
      "\n",
      "==================================================\n",
      "\n",
      "donor_id\n",
      "COVID19_Participant2     ['COVID-19']\n",
      "Categories (2, object): ['COVID-1...\n",
      "COVID19_Participant3     ['COVID-19']\n",
      "Categories (2, object): ['COVID-1...\n",
      "COVID19_Participant4     ['COVID-19']\n",
      "Categories (2, object): ['COVID-1...\n",
      "COVID19_Participant5     ['COVID-19']\n",
      "Categories (2, object): ['COVID-1...\n",
      "COVID19_Participant6     ['COVID-19']\n",
      "Categories (2, object): ['COVID-1...\n",
      "COVID19_Participant7     ['COVID-19']\n",
      "Categories (2, object): ['COVID-1...\n",
      "COVID19_Participant9     ['COVID-19']\n",
      "Categories (2, object): ['COVID-1...\n",
      "COVID19_Participant10    ['COVID-19']\n",
      "Categories (2, object): ['COVID-1...\n",
      "COVID19_Participant12    ['COVID-19']\n",
      "Categories (2, object): ['COVID-1...\n",
      "COVID19_Participant13    ['COVID-19']\n",
      "Categories (2, object): ['COVID-1...\n",
      "COVID19_Participant14    ['COVID-19']\n",
      "Categories (2, object): ['COVID-1...\n",
      "COVID19_Participant15    ['COVID-19']\n",
      "Categories (2, object): ['COVID-1...\n",
      "COVID19_Participant17    ['COVID-19']\n",
      "Categories (2, object): ['COVID-1...\n",
      "COVID19_Participant19    ['COVID-19']\n",
      "Categories (2, object): ['COVID-1...\n",
      "COVID19_Participant20    ['COVID-19']\n",
      "Categories (2, object): ['COVID-1...\n",
      "COVID19_Participant21    ['COVID-19']\n",
      "Categories (2, object): ['COVID-1...\n",
      "COVID19_Participant22    ['COVID-19']\n",
      "Categories (2, object): ['COVID-1...\n",
      "COVID19_Participant23    ['COVID-19']\n",
      "Categories (2, object): ['COVID-1...\n",
      "COVID19_Participant26    ['COVID-19']\n",
      "Categories (2, object): ['COVID-1...\n",
      "COVID19_Participant27    ['COVID-19']\n",
      "Categories (2, object): ['COVID-1...\n",
      "COVID19_Participant29    ['COVID-19']\n",
      "Categories (2, object): ['COVID-1...\n",
      "COVID19_Participant31    ['COVID-19']\n",
      "Categories (2, object): ['COVID-1...\n",
      "COVID19_Participant32    ['COVID-19']\n",
      "Categories (2, object): ['COVID-1...\n",
      "COVID19_Participant35    ['COVID-19']\n",
      "Categories (2, object): ['COVID-1...\n",
      "COVID19_Participant36    ['COVID-19']\n",
      "Categories (2, object): ['COVID-1...\n",
      "COVID19_Participant37    ['COVID-19']\n",
      "Categories (2, object): ['COVID-1...\n",
      "COVID19_Participant38    ['COVID-19']\n",
      "Categories (2, object): ['COVID-1...\n",
      "COVID19_Participant40    ['COVID-19']\n",
      "Categories (2, object): ['COVID-1...\n",
      "Control_Participant1     ['normal']\n",
      "Categories (2, object): ['COVID-19'...\n",
      "Control_Participant2     ['normal']\n",
      "Categories (2, object): ['COVID-19'...\n",
      "Control_Participant3     ['normal']\n",
      "Categories (2, object): ['COVID-19'...\n",
      "Control_Participant4     ['normal']\n",
      "Categories (2, object): ['COVID-19'...\n",
      "Control_Participant5     ['normal']\n",
      "Categories (2, object): ['COVID-19'...\n",
      "Control_Participant6     ['normal']\n",
      "Categories (2, object): ['COVID-19'...\n",
      "Control_Participant8     ['normal']\n",
      "Categories (2, object): ['COVID-19'...\n",
      "Control_Participant10    ['normal']\n",
      "Categories (2, object): ['COVID-19'...\n",
      "Control_Participant11    ['normal']\n",
      "Categories (2, object): ['COVID-19'...\n",
      "Control_Participant12    ['normal']\n",
      "Categories (2, object): ['COVID-19'...\n",
      "Control_Participant13    ['normal']\n",
      "Categories (2, object): ['COVID-19'...\n",
      "Control_Participant15    ['normal']\n",
      "Categories (2, object): ['COVID-19'...\n",
      "Name: disease__ontology_label, dtype: object\n"
     ]
    },
    {
     "name": "stderr",
     "output_type": "stream",
     "text": [
      "/tmp/ipykernel_2366421/601324481.py:9: FutureWarning: The default of observed=False is deprecated and will be changed to True in a future version of pandas. Pass observed=False to retain current behavior or observed=True to adopt the future default and silence this warning.\n",
      "  donor_disease_map = adata.obs.groupby('donor_id')['disease__ontology_label'].unique()\n"
     ]
    }
   ],
   "source": [
    "# donor_id 고유값 개수와 분포\n",
    "print(\"donor_id unique count:\", adata.obs['donor_id'].nunique())\n",
    "# print(\"donor_id distribution:\")\n",
    "# print(adata.obs['donor_id'].value_counts())\n",
    "\n",
    "print(\"\\n\" + \"=\"*50 + \"\\n\")\n",
    "\n",
    "# 환자별로 질병 정보 확인\n",
    "donor_disease_map = adata.obs.groupby('donor_id')['disease__ontology_label'].unique()\n",
    "\n",
    "# 결과 출력\n",
    "print(donor_disease_map)\n",
    "\n"
   ]
  },
  {
   "cell_type": "code",
   "execution_count": 11,
   "id": "4f71f923",
   "metadata": {},
   "outputs": [
    {
     "name": "stdout",
     "output_type": "stream",
     "text": [
      "                 donor_id                                     disease_labels\n",
      "0    COVID19_Participant2  ['COVID-19']\n",
      "Categories (2, object): ['COVID-1...\n",
      "1    COVID19_Participant3  ['COVID-19']\n",
      "Categories (2, object): ['COVID-1...\n",
      "2    COVID19_Participant4  ['COVID-19']\n",
      "Categories (2, object): ['COVID-1...\n",
      "3    COVID19_Participant5  ['COVID-19']\n",
      "Categories (2, object): ['COVID-1...\n",
      "4    COVID19_Participant6  ['COVID-19']\n",
      "Categories (2, object): ['COVID-1...\n",
      "5    COVID19_Participant7  ['COVID-19']\n",
      "Categories (2, object): ['COVID-1...\n",
      "6    COVID19_Participant9  ['COVID-19']\n",
      "Categories (2, object): ['COVID-1...\n",
      "7   COVID19_Participant10  ['COVID-19']\n",
      "Categories (2, object): ['COVID-1...\n",
      "8   COVID19_Participant12  ['COVID-19']\n",
      "Categories (2, object): ['COVID-1...\n",
      "9   COVID19_Participant13  ['COVID-19']\n",
      "Categories (2, object): ['COVID-1...\n",
      "10  COVID19_Participant14  ['COVID-19']\n",
      "Categories (2, object): ['COVID-1...\n",
      "11  COVID19_Participant15  ['COVID-19']\n",
      "Categories (2, object): ['COVID-1...\n",
      "12  COVID19_Participant17  ['COVID-19']\n",
      "Categories (2, object): ['COVID-1...\n",
      "13  COVID19_Participant19  ['COVID-19']\n",
      "Categories (2, object): ['COVID-1...\n",
      "14  COVID19_Participant20  ['COVID-19']\n",
      "Categories (2, object): ['COVID-1...\n",
      "15  COVID19_Participant21  ['COVID-19']\n",
      "Categories (2, object): ['COVID-1...\n",
      "16  COVID19_Participant22  ['COVID-19']\n",
      "Categories (2, object): ['COVID-1...\n",
      "17  COVID19_Participant23  ['COVID-19']\n",
      "Categories (2, object): ['COVID-1...\n",
      "18  COVID19_Participant26  ['COVID-19']\n",
      "Categories (2, object): ['COVID-1...\n",
      "19  COVID19_Participant27  ['COVID-19']\n",
      "Categories (2, object): ['COVID-1...\n",
      "20  COVID19_Participant29  ['COVID-19']\n",
      "Categories (2, object): ['COVID-1...\n",
      "21  COVID19_Participant31  ['COVID-19']\n",
      "Categories (2, object): ['COVID-1...\n",
      "22  COVID19_Participant32  ['COVID-19']\n",
      "Categories (2, object): ['COVID-1...\n",
      "23  COVID19_Participant35  ['COVID-19']\n",
      "Categories (2, object): ['COVID-1...\n",
      "24  COVID19_Participant36  ['COVID-19']\n",
      "Categories (2, object): ['COVID-1...\n",
      "25  COVID19_Participant37  ['COVID-19']\n",
      "Categories (2, object): ['COVID-1...\n",
      "26  COVID19_Participant38  ['COVID-19']\n",
      "Categories (2, object): ['COVID-1...\n",
      "27  COVID19_Participant40  ['COVID-19']\n",
      "Categories (2, object): ['COVID-1...\n",
      "28   Control_Participant1  ['normal']\n",
      "Categories (2, object): ['COVID-19'...\n",
      "29   Control_Participant2  ['normal']\n",
      "Categories (2, object): ['COVID-19'...\n",
      "30   Control_Participant3  ['normal']\n",
      "Categories (2, object): ['COVID-19'...\n",
      "31   Control_Participant4  ['normal']\n",
      "Categories (2, object): ['COVID-19'...\n",
      "32   Control_Participant5  ['normal']\n",
      "Categories (2, object): ['COVID-19'...\n",
      "33   Control_Participant6  ['normal']\n",
      "Categories (2, object): ['COVID-19'...\n",
      "34   Control_Participant8  ['normal']\n",
      "Categories (2, object): ['COVID-19'...\n",
      "35  Control_Participant10  ['normal']\n",
      "Categories (2, object): ['COVID-19'...\n",
      "36  Control_Participant11  ['normal']\n",
      "Categories (2, object): ['COVID-19'...\n",
      "37  Control_Participant12  ['normal']\n",
      "Categories (2, object): ['COVID-19'...\n",
      "38  Control_Participant13  ['normal']\n",
      "Categories (2, object): ['COVID-19'...\n",
      "39  Control_Participant15  ['normal']\n",
      "Categories (2, object): ['COVID-19'...\n"
     ]
    }
   ],
   "source": [
    "# DataFrame 형태로 정리\n",
    "donor_disease_df = donor_disease_map.reset_index()\n",
    "donor_disease_df.columns = ['donor_id', 'disease_labels']\n",
    "print(donor_disease_df)\n"
   ]
  }
 ],
 "metadata": {
  "kernelspec": {
   "display_name": "scrat",
   "language": "python",
   "name": "python3"
  },
  "language_info": {
   "codemirror_mode": {
    "name": "ipython",
    "version": 3
   },
   "file_extension": ".py",
   "mimetype": "text/x-python",
   "name": "python",
   "nbconvert_exporter": "python",
   "pygments_lexer": "ipython3",
   "version": "3.9.13"
  }
 },
 "nbformat": 4,
 "nbformat_minor": 5
}
