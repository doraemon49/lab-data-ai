{
 "cells": [
  {
   "cell_type": "code",
   "execution_count": 1,
   "id": "5d6a1fdd",
   "metadata": {},
   "outputs": [],
   "source": [
    "import scanpy as sc\n",
    "import numpy as np\n",
    "import pandas as pd\n",
    "adata = sc.read_h5ad('/data/project/kim89/0805_data/repeat_0/fold_0_train.h5ad')"
   ]
  },
  {
   "cell_type": "code",
   "execution_count": 1,
   "id": "36b63e5a",
   "metadata": {},
   "outputs": [
    {
     "name": "stdout",
     "output_type": "stream",
     "text": [
      "파일 크기: 1,619,146,404 bytes\n",
      "파일 크기: 1544.14 MB\n",
      "파일 크기: 1.51 GB\n"
     ]
    }
   ],
   "source": [
    "import os\n",
    "\n",
    "file_path = \"/data/project/kim89/0805_data/repeat_0/fold_0_train.h5ad\"  # 확인할 .h5ad 파일 경로\n",
    "# 파일 크기 (바이트 단위)\n",
    "size_bytes = os.path.getsize(file_path)\n",
    "\n",
    "# MB, GB 단위 변환\n",
    "size_mb = size_bytes / (1024 ** 2)\n",
    "size_gb = size_bytes / (1024 ** 3)\n",
    "\n",
    "print(f\"파일 크기: {size_bytes:,} bytes\")\n",
    "print(f\"파일 크기: {size_mb:.2f} MB\")\n",
    "print(f\"파일 크기: {size_gb:.2f} GB\")"
   ]
  },
  {
   "cell_type": "code",
   "execution_count": 11,
   "id": "8edb5570",
   "metadata": {},
   "outputs": [
    {
     "name": "stdout",
     "output_type": "stream",
     "text": [
      "✅ obs columns:\n",
      "['biosample_id', 'patient', 'cell_type', 'sex', 'cell_type_leiden06', 'sub_cluster', 'n_umi', 'n_genes', 'cellranger_percent_mito', 'exon_prop', 'entropy', 'doublet_score', 'species', 'species__ontology_label', 'disease', 'disease__ontology_label', 'organ', 'organ__ontology_label', 'library_preparation_protocol', 'library_preparation_protocol__ontology_label', 'label', 'manual_annotation', 'singler_annotation', 'scgpt_cluster_1.0', 'scace_cluster_1.0', 'cluster', 'llm_cluster_1.0', 'split_cluster_1.0', 'merged_cluster_1.0', 'llm_merged_cluster_1.0', 'llm_scace_cluster_1.0', 'raw_cluster_1.0', 'raw_split_cluster_1.0', 'raw_merged_cluster_1.0', 'scgpt_cluster_2.0']\n",
      "\n"
     ]
    }
   ],
   "source": [
    "# obs: 셀 메타데이터\n",
    "print(\"✅ obs columns:\")\n",
    "print(adata.obs.columns.tolist())\n",
    "print()\n",
    "\n",
    "# cell type annotation 2가지\n",
    "# 'manual_annotation', 'singler_annotation'"
   ]
  },
  {
   "cell_type": "code",
   "execution_count": 12,
   "id": "0656df52",
   "metadata": {},
   "outputs": [
    {
     "name": "stdout",
     "output_type": "stream",
     "text": [
      "['cardiac muscle cell', 'fat cell', 'vascular associated smooth muscle cell', 'macrophage', 'endocardial cell', ..., 'pericyte cell', 'cardiac neuron', 'lymphocyte', 'mast cell', 'mesothelial cell']\n",
      "Length: 13\n",
      "Categories (13, object): ['cardiac endothelial cell', 'cardiac muscle cell', 'cardiac neuron', 'cardiac ventricle fibroblast', ..., 'mast cell', 'mesothelial cell', 'pericyte cell', 'vascular associated smooth muscle cell']\n",
      "manual_annotation\n",
      "cardiac muscle cell                       120353\n",
      "cardiac ventricle fibroblast              113212\n",
      "cardiac endothelial cell                   80093\n",
      "pericyte cell                              54544\n",
      "macrophage                                 46083\n",
      "vascular associated smooth muscle cell     14650\n",
      "lymphocyte                                 13615\n",
      "endocardial cell                            5029\n",
      "endothelial cell of lymphatic vessel        4297\n",
      "fat cell                                    4295\n",
      "mast cell                                   3729\n",
      "cardiac neuron                              3097\n",
      "mesothelial cell                             215\n",
      "Name: count, dtype: int64\n"
     ]
    }
   ],
   "source": [
    "# manual_annotation 컬럼의 고유값 확인\n",
    "print(adata.obs['manual_annotation'].unique())\n",
    "\n",
    "# manual_annotation 컬럼의 고유값과 빈도수\n",
    "print(adata.obs['manual_annotation'].value_counts())\n"
   ]
  },
  {
   "cell_type": "code",
   "execution_count": 13,
   "id": "e422c9ee",
   "metadata": {},
   "outputs": [
    {
     "name": "stdout",
     "output_type": "stream",
     "text": [
      "['Neurons', 'Smooth_muscle_cells', 'Osteoblasts', 'Endothelial_cells', 'MSC', ..., 'Pro-Myelocyte', 'Pre-B_cell_CD34-', 'BM', 'GMP', 'Pro-B_cell_CD34+']\n",
      "Length: 37\n",
      "Categories (36, object): ['Astrocyte', 'BM', 'BM & Prog.', 'B_cell', ..., 'Smooth_muscle_cells', 'T_cells', 'Tissue_stem_cells', 'iPS_cells']\n",
      "singler_annotation\n",
      "Endothelial_cells       115561\n",
      "Smooth_muscle_cells      88175\n",
      "Neurons                  49810\n",
      "Fibroblasts              35767\n",
      "Astrocyte                26373\n",
      "Macrophage               24180\n",
      "Osteoblasts              23810\n",
      "Neutrophils              14999\n",
      "Chondrocytes             13074\n",
      "Neuroepithelial_cell     12199\n",
      "Platelets                10110\n",
      "T_cells                   6793\n",
      "NK_cell                   6776\n",
      "MSC                       5860\n",
      "Monocyte                  5811\n",
      "Tissue_stem_cells         5195\n",
      "iPS_cells                 4598\n",
      "Erythroblast              2742\n",
      "DC                        2146\n",
      "HSC_-G-CSF                1873\n",
      "Embryonic_stem_cells      1332\n",
      "HSC_CD34+                 1259\n",
      "Gametocytes               1129\n",
      "Hepatocytes               1122\n",
      "B_cell                     467\n",
      "Myelocyte                  405\n",
      "Epithelial_cells           401\n",
      "MEP                        143\n",
      "Keratinocytes              112\n",
      "BM                          86\n",
      "CMP                         80\n",
      "Pre-B_cell_CD34-            67\n",
      "BM & Prog.                  64\n",
      "Pro-B_cell_CD34+            43\n",
      "GMP                         42\n",
      "Pro-Myelocyte               30\n",
      "Name: count, dtype: int64\n"
     ]
    }
   ],
   "source": [
    "# singler_annotation 컬럼의 고유값 확인\n",
    "print(adata.obs['singler_annotation'].unique())\n",
    "\n",
    "# singler_annotation 컬럼의 고유값과 빈도수\n",
    "print(adata.obs['singler_annotation'].value_counts())\n"
   ]
  },
  {
   "cell_type": "code",
   "execution_count": 14,
   "id": "87c935d4",
   "metadata": {},
   "outputs": [
    {
     "name": "stdout",
     "output_type": "stream",
     "text": [
      "Unique cell types: {'Fibroblasts', nan, 'B_cell', 'iPS_cells', 'Gametocytes', 'Pro-Myelocyte', 'Hepatocytes', 'HSC_CD34+', 'Smooth_muscle_cells', 'Astrocyte', 'Chondrocytes', 'Osteoblasts', 'Embryonic_stem_cells', 'NK_cell', 'Neuroepithelial_cell', 'Tissue_stem_cells', 'Keratinocytes', 'T_cells', 'BM & Prog.', 'Endothelial_cells', 'CMP', 'MSC', 'Neurons', 'Platelets', 'Neutrophils', 'MEP', 'GMP', 'BM', 'Pro-B_cell_CD34+', 'Myelocyte', 'Monocyte', 'DC', 'Epithelial_cells', 'Erythroblast', 'Pre-B_cell_CD34-', 'Macrophage', 'HSC_-G-CSF'}\n",
      "Cell type types: {<class 'float'>, <class 'str'>}\n"
     ]
    }
   ],
   "source": [
    "print(\"Unique cell types:\", set(adata.obs['singler_annotation']))\n",
    "print(\"Cell type types:\", set([type(c) for c in adata.obs['singler_annotation']]))\n"
   ]
  },
  {
   "cell_type": "code",
   "execution_count": 15,
   "id": "2f31756f",
   "metadata": {},
   "outputs": [
    {
     "name": "stdout",
     "output_type": "stream",
     "text": [
      "AnnData object with n_obs × n_vars = 463212 × 3000\n",
      "    obs: 'biosample_id', 'patient', 'cell_type', 'sex', 'cell_type_leiden06', 'sub_cluster', 'n_umi', 'n_genes', 'cellranger_percent_mito', 'exon_prop', 'entropy', 'doublet_score', 'species', 'species__ontology_label', 'disease', 'disease__ontology_label', 'organ', 'organ__ontology_label', 'library_preparation_protocol', 'library_preparation_protocol__ontology_label', 'label', 'manual_annotation', 'singler_annotation', 'scgpt_cluster_1.0', 'scace_cluster_1.0', 'cluster', 'llm_cluster_1.0', 'split_cluster_1.0', 'merged_cluster_1.0', 'llm_merged_cluster_1.0', 'llm_scace_cluster_1.0', 'raw_cluster_1.0', 'raw_split_cluster_1.0', 'raw_merged_cluster_1.0', 'scgpt_cluster_2.0'\n",
      "    var: 'n_cells', 'Gene', 'id_in_vocab', 'highly_variable', 'means', 'dispersions', 'dispersions_norm'\n",
      "    uns: 'GPT_annotation', 'LLM_annotation', 'find_markers', 'hvg', 'log1p', 'marker_list', 'neighbors', 'rank_genes_groups', 'scgpt_cluster_1.0'\n",
      "    obsm: 'X_scGPT', 'scace_emb_1.0'\n",
      "    obsp: 'connectivities', 'distances'\n"
     ]
    }
   ],
   "source": [
    "print(adata)"
   ]
  },
  {
   "cell_type": "code",
   "execution_count": 5,
   "id": "b8ae563b",
   "metadata": {},
   "outputs": [
    {
     "name": "stdout",
     "output_type": "stream",
     "text": [
      "Unique disease_category: {'dilated cardiomyopathy', 'normal', 'hypertrophic cardiomyopathy'}\n",
      "Unique label: {0, 1, 2}\n"
     ]
    }
   ],
   "source": [
    "print(\"Unique disease_category:\", set(adata.obs['disease__ontology_label']))\n",
    "print(\"Unique label:\", set(adata.obs['label']))"
   ]
  },
  {
   "cell_type": "code",
   "execution_count": 7,
   "id": "20488313",
   "metadata": {},
   "outputs": [
    {
     "name": "stdout",
     "output_type": "stream",
     "text": [
      "patient unique count: 33\n",
      "\n",
      "==================================================\n",
      "\n",
      "patient\n",
      "P1290    ['dilated cardiomyopathy']\n",
      "Categories (3, obje...\n",
      "P1300    ['dilated cardiomyopathy']\n",
      "Categories (3, obje...\n",
      "P1304    ['dilated cardiomyopathy']\n",
      "Categories (3, obje...\n",
      "P1358    ['dilated cardiomyopathy']\n",
      "Categories (3, obje...\n",
      "P1371    ['dilated cardiomyopathy']\n",
      "Categories (3, obje...\n",
      "P1425    ['hypertrophic cardiomyopathy']\n",
      "Categories (3,...\n",
      "P1430    ['dilated cardiomyopathy']\n",
      "Categories (3, obje...\n",
      "P1462    ['hypertrophic cardiomyopathy']\n",
      "Categories (3,...\n",
      "P1479    ['hypertrophic cardiomyopathy']\n",
      "Categories (3,...\n",
      "P1504    ['dilated cardiomyopathy']\n",
      "Categories (3, obje...\n",
      "P1508    ['hypertrophic cardiomyopathy']\n",
      "Categories (3,...\n",
      "P1510    ['hypertrophic cardiomyopathy']\n",
      "Categories (3,...\n",
      "P1515    ['normal']\n",
      "Categories (3, object): ['dilated c...\n",
      "P1516    ['normal']\n",
      "Categories (3, object): ['dilated c...\n",
      "P1539    ['normal']\n",
      "Categories (3, object): ['dilated c...\n",
      "P1540    ['normal']\n",
      "Categories (3, object): ['dilated c...\n",
      "P1547    ['normal']\n",
      "Categories (3, object): ['dilated c...\n",
      "P1549    ['normal']\n",
      "Categories (3, object): ['dilated c...\n",
      "P1558    ['normal']\n",
      "Categories (3, object): ['dilated c...\n",
      "P1582    ['normal']\n",
      "Categories (3, object): ['dilated c...\n",
      "P1600    ['normal']\n",
      "Categories (3, object): ['dilated c...\n",
      "P1602    ['hypertrophic cardiomyopathy']\n",
      "Categories (3,...\n",
      "P1606    ['dilated cardiomyopathy']\n",
      "Categories (3, obje...\n",
      "P1610    ['normal']\n",
      "Categories (3, object): ['dilated c...\n",
      "P1617    ['dilated cardiomyopathy']\n",
      "Categories (3, obje...\n",
      "P1630    ['hypertrophic cardiomyopathy']\n",
      "Categories (3,...\n",
      "P1631    ['hypertrophic cardiomyopathy']\n",
      "Categories (3,...\n",
      "P1678    ['normal']\n",
      "Categories (3, object): ['dilated c...\n",
      "P1685    ['hypertrophic cardiomyopathy']\n",
      "Categories (3,...\n",
      "P1707    ['hypertrophic cardiomyopathy']\n",
      "Categories (3,...\n",
      "P1718    ['normal']\n",
      "Categories (3, object): ['dilated c...\n",
      "P1722    ['hypertrophic cardiomyopathy']\n",
      "Categories (3,...\n",
      "P1735    ['hypertrophic cardiomyopathy']\n",
      "Categories (3,...\n",
      "Name: disease__ontology_label, dtype: object\n"
     ]
    },
    {
     "name": "stderr",
     "output_type": "stream",
     "text": [
      "/tmp/ipykernel_4120476/2678285308.py:9: FutureWarning: The default of observed=False is deprecated and will be changed to True in a future version of pandas. Pass observed=False to retain current behavior or observed=True to adopt the future default and silence this warning.\n",
      "  donor_disease_map = adata.obs.groupby('patient')['disease__ontology_label'].unique()\n"
     ]
    }
   ],
   "source": [
    "# patient 고유값 개수와 분포\n",
    "print(\"patient unique count:\", adata.obs['patient'].nunique())\n",
    "# print(\"patient distribution:\")\n",
    "# print(adata.obs['patient'].value_counts())\n",
    "\n",
    "print(\"\\n\" + \"=\"*50 + \"\\n\")\n",
    "\n",
    "# 환자별로 질병 정보 확인\n",
    "donor_disease_map = adata.obs.groupby('patient')['disease__ontology_label'].unique()\n",
    "\n",
    "# 결과 출력\n",
    "print(donor_disease_map)\n",
    "\n"
   ]
  },
  {
   "cell_type": "code",
   "execution_count": 17,
   "id": "4f71f923",
   "metadata": {},
   "outputs": [
    {
     "name": "stdout",
     "output_type": "stream",
     "text": [
      "   patient                                     disease_labels\n",
      "0    P1290  ['dilated cardiomyopathy']\n",
      "Categories (3, obje...\n",
      "1    P1300  ['dilated cardiomyopathy']\n",
      "Categories (3, obje...\n",
      "2    P1304  ['dilated cardiomyopathy']\n",
      "Categories (3, obje...\n",
      "3    P1358  ['dilated cardiomyopathy']\n",
      "Categories (3, obje...\n",
      "4    P1371  ['dilated cardiomyopathy']\n",
      "Categories (3, obje...\n",
      "5    P1425  ['hypertrophic cardiomyopathy']\n",
      "Categories (3,...\n",
      "6    P1430  ['dilated cardiomyopathy']\n",
      "Categories (3, obje...\n",
      "7    P1462  ['hypertrophic cardiomyopathy']\n",
      "Categories (3,...\n",
      "8    P1479  ['hypertrophic cardiomyopathy']\n",
      "Categories (3,...\n",
      "9    P1504  ['dilated cardiomyopathy']\n",
      "Categories (3, obje...\n",
      "10   P1508  ['hypertrophic cardiomyopathy']\n",
      "Categories (3,...\n",
      "11   P1510  ['hypertrophic cardiomyopathy']\n",
      "Categories (3,...\n",
      "12   P1515  ['normal']\n",
      "Categories (3, object): ['dilated c...\n",
      "13   P1516  ['normal']\n",
      "Categories (3, object): ['dilated c...\n",
      "14   P1539  ['normal']\n",
      "Categories (3, object): ['dilated c...\n",
      "15   P1540  ['normal']\n",
      "Categories (3, object): ['dilated c...\n",
      "16   P1547  ['normal']\n",
      "Categories (3, object): ['dilated c...\n",
      "17   P1549  ['normal']\n",
      "Categories (3, object): ['dilated c...\n",
      "18   P1558  ['normal']\n",
      "Categories (3, object): ['dilated c...\n",
      "19   P1582  ['normal']\n",
      "Categories (3, object): ['dilated c...\n",
      "20   P1600  ['normal']\n",
      "Categories (3, object): ['dilated c...\n",
      "21   P1602  ['hypertrophic cardiomyopathy']\n",
      "Categories (3,...\n",
      "22   P1606  ['dilated cardiomyopathy']\n",
      "Categories (3, obje...\n",
      "23   P1610  ['normal']\n",
      "Categories (3, object): ['dilated c...\n",
      "24   P1617  ['dilated cardiomyopathy']\n",
      "Categories (3, obje...\n",
      "25   P1630  ['hypertrophic cardiomyopathy']\n",
      "Categories (3,...\n",
      "26   P1631  ['hypertrophic cardiomyopathy']\n",
      "Categories (3,...\n",
      "27   P1678  ['normal']\n",
      "Categories (3, object): ['dilated c...\n",
      "28   P1685  ['hypertrophic cardiomyopathy']\n",
      "Categories (3,...\n",
      "29   P1707  ['hypertrophic cardiomyopathy']\n",
      "Categories (3,...\n",
      "30   P1718  ['normal']\n",
      "Categories (3, object): ['dilated c...\n",
      "31   P1722  ['hypertrophic cardiomyopathy']\n",
      "Categories (3,...\n",
      "32   P1735  ['hypertrophic cardiomyopathy']\n",
      "Categories (3,...\n"
     ]
    }
   ],
   "source": [
    "# DataFrame 형태로 정리\n",
    "donor_disease_df = donor_disease_map.reset_index()\n",
    "donor_disease_df.columns = ['patient', 'disease_labels']\n",
    "print(donor_disease_df)\n"
   ]
  },
  {
   "cell_type": "code",
   "execution_count": 18,
   "id": "0e9ae372",
   "metadata": {},
   "outputs": [
    {
     "name": "stdout",
     "output_type": "stream",
     "text": [
      "patient unique count: 9\n"
     ]
    }
   ],
   "source": [
    "adata = sc.read_h5ad('/data/project/kim89/0805_data/repeat_0/fold_0_test.h5ad')\n",
    "print(\"patient unique count:\", adata.obs['patient'].nunique())"
   ]
  }
 ],
 "metadata": {
  "kernelspec": {
   "display_name": "scrat",
   "language": "python",
   "name": "python3"
  },
  "language_info": {
   "codemirror_mode": {
    "name": "ipython",
    "version": 3
   },
   "file_extension": ".py",
   "mimetype": "text/x-python",
   "name": "python",
   "nbconvert_exporter": "python",
   "pygments_lexer": "ipython3",
   "version": "3.9.13"
  }
 },
 "nbformat": 4,
 "nbformat_minor": 5
}
